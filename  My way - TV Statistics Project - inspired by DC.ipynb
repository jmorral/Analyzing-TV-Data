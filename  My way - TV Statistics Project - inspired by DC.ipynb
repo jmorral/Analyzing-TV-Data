{
 "cells": [
  {
   "cell_type": "markdown",
   "metadata": {},
   "source": [
    "Followed the requirements for the Datacamp unguided project \"Analyzing TV Data.\" The dataset for this version is slightly different than what is used in the Datacamp shell. Datacamp requires a specific format, so the data used and the method are a little different. I did this one first, and this is my own code. "
   ]
  },
  {
   "cell_type": "code",
   "execution_count": 22,
   "metadata": {},
   "outputs": [],
   "source": [
    "import numpy as np\n",
    "import pandas as pd\n",
    "import matplotlib.pyplot as plt\n",
    "import os\n",
    "\n",
    "plt.rcParams['figure.figsize'] = [11, 7]"
   ]
  },
  {
   "cell_type": "code",
   "execution_count": 23,
   "metadata": {},
   "outputs": [
    {
     "name": "stdout",
     "output_type": "stream",
     "text": [
      "C:\\Users\\jam43\\DataCamp jupyter notebooks\n",
      "['.ipynb_checkpoints', 'Datacamp -  Intermediate Python Skill Check.ipynb', 'Datacamp -  Intro Python Skill Check.ipynb', 'Datacamp - Hacker Statistics case study.ipynb', 'Datacamp - Intermediate Importing Data into Python.ipynb', 'Datacamp - Intermediate Python course.ipynb', 'Datacamp - Intro to importing data files in python.ipynb', 'Datacamp - Introduction to Python course.ipynb', 'DataCamp - TV Statistics Project - Unguided - done the Datacamp way.ipynb', 'Datacamp - TV Statistics Project .ipynb', 'the_office_series.csv']\n"
     ]
    }
   ],
   "source": [
    "print(os.getcwd())#checking that directory is correct\n",
    "print(os.listdir())#checking that file is in my directory for the pd.read_csv call to work"
   ]
  },
  {
   "cell_type": "code",
   "execution_count": 24,
   "metadata": {},
   "outputs": [
    {
     "data": {
      "text/html": [
       "<div>\n",
       "<style scoped>\n",
       "    .dataframe tbody tr th:only-of-type {\n",
       "        vertical-align: middle;\n",
       "    }\n",
       "\n",
       "    .dataframe tbody tr th {\n",
       "        vertical-align: top;\n",
       "    }\n",
       "\n",
       "    .dataframe thead th {\n",
       "        text-align: right;\n",
       "    }\n",
       "</style>\n",
       "<table border=\"1\" class=\"dataframe\">\n",
       "  <thead>\n",
       "    <tr style=\"text-align: right;\">\n",
       "      <th></th>\n",
       "      <th>Season</th>\n",
       "      <th>EpisodeTitle</th>\n",
       "      <th>About</th>\n",
       "      <th>Ratings</th>\n",
       "      <th>Votes</th>\n",
       "      <th>Viewership</th>\n",
       "      <th>Duration</th>\n",
       "      <th>Date</th>\n",
       "      <th>GuestStars</th>\n",
       "      <th>Director</th>\n",
       "      <th>Writers</th>\n",
       "    </tr>\n",
       "  </thead>\n",
       "  <tbody>\n",
       "    <tr>\n",
       "      <td>0</td>\n",
       "      <td>1</td>\n",
       "      <td>Pilot</td>\n",
       "      <td>The premiere episode introduces the boss and s...</td>\n",
       "      <td>7.5</td>\n",
       "      <td>4936</td>\n",
       "      <td>11.2</td>\n",
       "      <td>23</td>\n",
       "      <td>24 March 2005</td>\n",
       "      <td>NaN</td>\n",
       "      <td>Ken Kwapis</td>\n",
       "      <td>Ricky Gervais |Stephen Merchant and Greg Daniels</td>\n",
       "    </tr>\n",
       "    <tr>\n",
       "      <td>1</td>\n",
       "      <td>1</td>\n",
       "      <td>Diversity Day</td>\n",
       "      <td>Michael's off color remark puts a sensitivity ...</td>\n",
       "      <td>8.3</td>\n",
       "      <td>4801</td>\n",
       "      <td>6.0</td>\n",
       "      <td>23</td>\n",
       "      <td>29 March 2005</td>\n",
       "      <td>NaN</td>\n",
       "      <td>Ken Kwapis</td>\n",
       "      <td>B. J. Novak</td>\n",
       "    </tr>\n",
       "    <tr>\n",
       "      <td>2</td>\n",
       "      <td>1</td>\n",
       "      <td>Health Care</td>\n",
       "      <td>Michael leaves Dwight in charge of picking the...</td>\n",
       "      <td>7.8</td>\n",
       "      <td>4024</td>\n",
       "      <td>5.8</td>\n",
       "      <td>22</td>\n",
       "      <td>5 April 2005</td>\n",
       "      <td>NaN</td>\n",
       "      <td>Ken Whittingham</td>\n",
       "      <td>Paul Lieberstein</td>\n",
       "    </tr>\n",
       "    <tr>\n",
       "      <td>3</td>\n",
       "      <td>1</td>\n",
       "      <td>The Alliance</td>\n",
       "      <td>Just for a laugh, Jim agrees to an alliance wi...</td>\n",
       "      <td>8.1</td>\n",
       "      <td>3915</td>\n",
       "      <td>5.4</td>\n",
       "      <td>23</td>\n",
       "      <td>12 April 2005</td>\n",
       "      <td>NaN</td>\n",
       "      <td>Bryan Gordon</td>\n",
       "      <td>Michael Schur</td>\n",
       "    </tr>\n",
       "    <tr>\n",
       "      <td>4</td>\n",
       "      <td>1</td>\n",
       "      <td>Basketball</td>\n",
       "      <td>Michael and his staff challenge the warehouse ...</td>\n",
       "      <td>8.4</td>\n",
       "      <td>4294</td>\n",
       "      <td>5.0</td>\n",
       "      <td>23</td>\n",
       "      <td>19 April 2005</td>\n",
       "      <td>NaN</td>\n",
       "      <td>Greg Daniels</td>\n",
       "      <td>Greg Daniels</td>\n",
       "    </tr>\n",
       "  </tbody>\n",
       "</table>\n",
       "</div>"
      ],
      "text/plain": [
       "   Season   EpisodeTitle                                              About  \\\n",
       "0       1          Pilot  The premiere episode introduces the boss and s...   \n",
       "1       1  Diversity Day  Michael's off color remark puts a sensitivity ...   \n",
       "2       1    Health Care  Michael leaves Dwight in charge of picking the...   \n",
       "3       1   The Alliance  Just for a laugh, Jim agrees to an alliance wi...   \n",
       "4       1     Basketball  Michael and his staff challenge the warehouse ...   \n",
       "\n",
       "   Ratings  Votes  Viewership  Duration            Date GuestStars  \\\n",
       "0      7.5   4936        11.2        23   24 March 2005        NaN   \n",
       "1      8.3   4801         6.0        23   29 March 2005        NaN   \n",
       "2      7.8   4024         5.8        22    5 April 2005        NaN   \n",
       "3      8.1   3915         5.4        23   12 April 2005        NaN   \n",
       "4      8.4   4294         5.0        23   19 April 2005        NaN   \n",
       "\n",
       "          Director                                           Writers  \n",
       "0       Ken Kwapis  Ricky Gervais |Stephen Merchant and Greg Daniels  \n",
       "1       Ken Kwapis                                       B. J. Novak  \n",
       "2  Ken Whittingham                                  Paul Lieberstein  \n",
       "3     Bryan Gordon                                     Michael Schur  \n",
       "4     Greg Daniels                                      Greg Daniels  "
      ]
     },
     "execution_count": 24,
     "metadata": {},
     "output_type": "execute_result"
    }
   ],
   "source": [
    "officedf = pd.read_csv('the_office_series.csv', sep = ',', index_col=0)\n",
    "\n",
    "officedf.head()"
   ]
  },
  {
   "cell_type": "code",
   "execution_count": 25,
   "metadata": {},
   "outputs": [
    {
     "name": "stdout",
     "output_type": "stream",
     "text": [
      "29\n"
     ]
    }
   ],
   "source": [
    "#The NaN only occur in the column for Guest stars. Dropping all NaN for a new df that is only the Guest Stars\n",
    "guests = officedf.dropna()\n",
    "print(len(guests)) #To see how many episodes have Guest stars"
   ]
  },
  {
   "cell_type": "code",
   "execution_count": 26,
   "metadata": {
    "scrolled": true
   },
   "outputs": [
    {
     "data": {
      "text/html": [
       "<div>\n",
       "<style scoped>\n",
       "    .dataframe tbody tr th:only-of-type {\n",
       "        vertical-align: middle;\n",
       "    }\n",
       "\n",
       "    .dataframe tbody tr th {\n",
       "        vertical-align: top;\n",
       "    }\n",
       "\n",
       "    .dataframe thead th {\n",
       "        text-align: right;\n",
       "    }\n",
       "</style>\n",
       "<table border=\"1\" class=\"dataframe\">\n",
       "  <thead>\n",
       "    <tr style=\"text-align: right;\">\n",
       "      <th></th>\n",
       "      <th>season</th>\n",
       "      <th>episodetitle</th>\n",
       "      <th>about</th>\n",
       "      <th>ratings</th>\n",
       "      <th>votes</th>\n",
       "      <th>viewership</th>\n",
       "      <th>duration</th>\n",
       "      <th>date</th>\n",
       "      <th>gueststars</th>\n",
       "      <th>director</th>\n",
       "      <th>writers</th>\n",
       "    </tr>\n",
       "  </thead>\n",
       "  <tbody>\n",
       "    <tr>\n",
       "      <td>0</td>\n",
       "      <td>1</td>\n",
       "      <td>Pilot</td>\n",
       "      <td>The premiere episode introduces the boss and s...</td>\n",
       "      <td>7.5</td>\n",
       "      <td>4936</td>\n",
       "      <td>11.2</td>\n",
       "      <td>23</td>\n",
       "      <td>24 March 2005</td>\n",
       "      <td></td>\n",
       "      <td>Ken Kwapis</td>\n",
       "      <td>Ricky Gervais |Stephen Merchant and Greg Daniels</td>\n",
       "    </tr>\n",
       "    <tr>\n",
       "      <td>1</td>\n",
       "      <td>1</td>\n",
       "      <td>Diversity Day</td>\n",
       "      <td>Michael's off color remark puts a sensitivity ...</td>\n",
       "      <td>8.3</td>\n",
       "      <td>4801</td>\n",
       "      <td>6.0</td>\n",
       "      <td>23</td>\n",
       "      <td>29 March 2005</td>\n",
       "      <td></td>\n",
       "      <td>Ken Kwapis</td>\n",
       "      <td>B. J. Novak</td>\n",
       "    </tr>\n",
       "    <tr>\n",
       "      <td>2</td>\n",
       "      <td>1</td>\n",
       "      <td>Health Care</td>\n",
       "      <td>Michael leaves Dwight in charge of picking the...</td>\n",
       "      <td>7.8</td>\n",
       "      <td>4024</td>\n",
       "      <td>5.8</td>\n",
       "      <td>22</td>\n",
       "      <td>5 April 2005</td>\n",
       "      <td></td>\n",
       "      <td>Ken Whittingham</td>\n",
       "      <td>Paul Lieberstein</td>\n",
       "    </tr>\n",
       "    <tr>\n",
       "      <td>3</td>\n",
       "      <td>1</td>\n",
       "      <td>The Alliance</td>\n",
       "      <td>Just for a laugh, Jim agrees to an alliance wi...</td>\n",
       "      <td>8.1</td>\n",
       "      <td>3915</td>\n",
       "      <td>5.4</td>\n",
       "      <td>23</td>\n",
       "      <td>12 April 2005</td>\n",
       "      <td></td>\n",
       "      <td>Bryan Gordon</td>\n",
       "      <td>Michael Schur</td>\n",
       "    </tr>\n",
       "    <tr>\n",
       "      <td>4</td>\n",
       "      <td>1</td>\n",
       "      <td>Basketball</td>\n",
       "      <td>Michael and his staff challenge the warehouse ...</td>\n",
       "      <td>8.4</td>\n",
       "      <td>4294</td>\n",
       "      <td>5.0</td>\n",
       "      <td>23</td>\n",
       "      <td>19 April 2005</td>\n",
       "      <td></td>\n",
       "      <td>Greg Daniels</td>\n",
       "      <td>Greg Daniels</td>\n",
       "    </tr>\n",
       "  </tbody>\n",
       "</table>\n",
       "</div>"
      ],
      "text/plain": [
       "   season   episodetitle                                              about  \\\n",
       "0       1          Pilot  The premiere episode introduces the boss and s...   \n",
       "1       1  Diversity Day  Michael's off color remark puts a sensitivity ...   \n",
       "2       1    Health Care  Michael leaves Dwight in charge of picking the...   \n",
       "3       1   The Alliance  Just for a laugh, Jim agrees to an alliance wi...   \n",
       "4       1     Basketball  Michael and his staff challenge the warehouse ...   \n",
       "\n",
       "   ratings  votes  viewership  duration            date gueststars  \\\n",
       "0      7.5   4936        11.2        23   24 March 2005              \n",
       "1      8.3   4801         6.0        23   29 March 2005              \n",
       "2      7.8   4024         5.8        22    5 April 2005              \n",
       "3      8.1   3915         5.4        23   12 April 2005              \n",
       "4      8.4   4294         5.0        23   19 April 2005              \n",
       "\n",
       "          director                                           writers  \n",
       "0       Ken Kwapis  Ricky Gervais |Stephen Merchant and Greg Daniels  \n",
       "1       Ken Kwapis                                       B. J. Novak  \n",
       "2  Ken Whittingham                                  Paul Lieberstein  \n",
       "3     Bryan Gordon                                     Michael Schur  \n",
       "4     Greg Daniels                                      Greg Daniels  "
      ]
     },
     "execution_count": 26,
     "metadata": {},
     "output_type": "execute_result"
    }
   ],
   "source": [
    "officedf = officedf.fillna(value=' ') #Fixing the main df to not include the NaN for blanks for guest stars.\n",
    "\n",
    "officedf.columns = officedf.columns.str.lower()\n",
    "    \n",
    "officedf.head()"
   ]
  },
  {
   "cell_type": "code",
   "execution_count": 27,
   "metadata": {},
   "outputs": [
    {
     "name": "stdout",
     "output_type": "stream",
     "text": [
      "count    188.000000\n",
      "mean       8.237234\n",
      "std        0.589930\n",
      "min        6.600000\n",
      "25%        7.800000\n",
      "50%        8.200000\n",
      "75%        8.600000\n",
      "max        9.800000\n",
      "Name: ratings, dtype: float64\n"
     ]
    }
   ],
   "source": [
    "print(officedf['ratings'].describe())"
   ]
  },
  {
   "cell_type": "code",
   "execution_count": 35,
   "metadata": {},
   "outputs": [
    {
     "data": {
      "image/png": "[encoded data removed]",
      "text/plain": [
       "<Figure size 576x396 with 1 Axes>"
      ]
     },
     "metadata": {},
     "output_type": "display_data"
    }
   ],
   "source": [
    "fig = plt.figure()\n",
    "plt.style.use('fast')\n",
    "\n",
    "x = officedf.index\n",
    "y = officedf.viewership\n",
    "\n",
    "colors = []\n",
    "for i in officedf.ratings:\n",
    "    if i < 8.6:\n",
    "        if i < 7.8:\n",
    "            colors.append('red')\n",
    "        elif i >= 7.8 and i < 8.2:\n",
    "            colors.append('orange')\n",
    "        else: \n",
    "            colors.append('lightgreen')\n",
    "    else: \n",
    "        colors.append('darkgreen')\n",
    "\n",
    "sizes = []\n",
    "for i in officedf.gueststars:\n",
    "    if i != ' ':\n",
    "        sizes.append(250)\n",
    "    else:\n",
    "        sizes.append(25)\n",
    "        \n",
    "markers = []\n",
    "for i in officedf.gueststars:\n",
    "    if i != ' ':\n",
    "        markers.append('*')\n",
    "    else:\n",
    "        markers.append('o')\n",
    "        \n",
    "\n",
    "for i in x:\n",
    "    plt.scatter(x[i], y[i], c=colors[i], s=sizes[i], marker=markers[i])\n",
    "    \n",
    "    \n",
    "plt.xlabel('Episode Number')\n",
    "plt.ylabel('Viewership (Millions)')\n",
    "plt.title('Popularity, Quality, and Guest Appearances on the Office')\n",
    "plt.show()"
   ]
  },
  {
   "cell_type": "code",
   "execution_count": 29,
   "metadata": {},
   "outputs": [
    {
     "data": {
      "text/plain": [
       "77    Cloris Leachman, Jack Black, Jessica Alba\n",
       "Name: gueststars, dtype: object"
      ]
     },
     "execution_count": 29,
     "metadata": {},
     "output_type": "execute_result"
    }
   ],
   "source": [
    "officedf[officedf['viewership'] == officedf['viewership'].max()]['gueststars']"
   ]
  },
  {
   "cell_type": "code",
   "execution_count": 30,
   "metadata": {},
   "outputs": [],
   "source": [
    "top_star = 'Jessica Alba'"
   ]
  }
 ],
 "metadata": {
  "kernelspec": {
   "display_name": "Python 3",
   "language": "python",
   "name": "python3"
  },
  "language_info": {
   "codemirror_mode": {
    "name": "ipython",
    "version": 3
   },
   "file_extension": ".py",
   "mimetype": "text/x-python",
   "name": "python",
   "nbconvert_exporter": "python",
   "pygments_lexer": "ipython3",
   "version": "3.7.4"
  }
 },
 "nbformat": 4,
 "nbformat_minor": 2
}

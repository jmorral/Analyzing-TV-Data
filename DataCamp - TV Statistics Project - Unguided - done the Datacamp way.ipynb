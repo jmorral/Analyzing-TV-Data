{
 "cells": [
  {
   "cell_type": "code",
   "execution_count": null,
   "metadata": {},
   "outputs": [],
   "source": [
    "###DataCamp project \"Analyzing TV Data\" - Unguided\n",
    "##Done the \"Datacamp approved way\" - otherwise it won't pass. \n",
    "#I had done my for loops differently and it failed despite getting the same results. "
   ]
  },
  {
   "cell_type": "code",
   "execution_count": null,
   "metadata": {},
   "outputs": [],
   "source": [
    "import numpy as np\n",
    "import pandas as pd\n",
    "import matplotlib.pyplot as plt\n",
    "\n",
    "plt.rcPrams['figure.figsize'] = [11, 7]"
   ]
  },
  {
   "cell_type": "code",
   "execution_count": null,
   "metadata": {},
   "outputs": [],
   "source": [
    "officedf = pd.read_csv('datasets/office_episodes.csv')\n",
    "officedf.head()"
   ]
  },
  {
   "cell_type": "code",
   "execution_count": null,
   "metadata": {},
   "outputs": [],
   "source": [
    "colors = []\n",
    "for ind, row in officedf.iterrows():\n",
    "    if row['scaled_ratings'] < 0.25:\n",
    "        colors.append('red')\n",
    "    elif row['scaled_ratings'] < 0.50:\n",
    "        colors.append('orange')\n",
    "    elif row['scaled_ratings'] < 0.75:\n",
    "        colors.append('lightgreen')\n",
    "    else: \n",
    "        colors.append('darkgreen')"
   ]
  },
  {
   "cell_type": "code",
   "execution_count": null,
   "metadata": {},
   "outputs": [],
   "source": [
    "sizes = []\n",
    "for ind, row in officedf.iterrows():\n",
    "    if row['has_guests'] == False:\n",
    "        sizes.append(25)\n",
    "    else:\n",
    "        sizes.append(250)\n",
    "       "
   ]
  },
  {
   "cell_type": "code",
   "execution_count": null,
   "metadata": {},
   "outputs": [],
   "source": [
    "officedf['colors'] = colors\n",
    "officedf['sizes'] = sizes\n",
    "\n",
    "officedf.info()\n"
   ]
  },
  {
   "cell_type": "code",
   "execution_count": null,
   "metadata": {},
   "outputs": [],
   "source": [
    "non_guest_df = officedf[officedf['has_guests'] == False]\n",
    "guest_df = officedf[officedf['has_guests'] == True]"
   ]
  },
  {
   "cell_type": "code",
   "execution_count": null,
   "metadata": {},
   "outputs": [],
   "source": [
    "fig = plt.figure()\n",
    "    \n",
    "plt.scatter(x=non_guest_df['episode_number'],\n",
    "            y=non_guest_df['viewership_mil'], \n",
    "            c=non_guest_df['colors'],\n",
    "            s=non_guest_df['sizes'],\n",
    "            )\n",
    "\n",
    "plt.scatter(x=guest_df['episode_number'],\n",
    "            y=guest_df['viewership_mil'], \n",
    "            c=guest_df['colors'],\n",
    "            s=guest_df['sizes'],\n",
    "            marker='*'\n",
    "           )\n",
    " \n",
    "plt.title('Popularity, Quality, and Guest Appearances on the Office')\n",
    "plt.xlabel('Episode Number')\n",
    "plt.ylabel('Viewership (Millions)')\n",
    "\n",
    "plt.show()"
   ]
  },
  {
   "cell_type": "code",
   "execution_count": null,
   "metadata": {},
   "outputs": [],
   "source": [
    "officedf[officedf['viewership_mil'] == officedf['viewership_mil'].max()]['guest_stars']\n"
   ]
  },
  {
   "cell_type": "code",
   "execution_count": null,
   "metadata": {},
   "outputs": [],
   "source": [
    "top_star = 'Jessica Alba'\n",
    "print(top_star)"
   ]
  }
 ],
 "metadata": {
  "kernelspec": {
   "display_name": "Python 3",
   "language": "python",
   "name": "python3"
  },
  "language_info": {
   "codemirror_mode": {
    "name": "ipython",
    "version": 3
   },
   "file_extension": ".py",
   "mimetype": "text/x-python",
   "name": "python",
   "nbconvert_exporter": "python",
   "pygments_lexer": "ipython3",
   "version": "3.7.4"
  }
 },
 "nbformat": 4,
 "nbformat_minor": 2
}
